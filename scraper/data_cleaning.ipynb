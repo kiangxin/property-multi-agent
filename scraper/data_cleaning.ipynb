{
 "cells": [
  {
   "cell_type": "code",
   "execution_count": 9,
   "metadata": {},
   "outputs": [
    {
     "name": "stdout",
     "output_type": "stream",
     "text": [
      "Converting to Excel...\n",
      "Successfully saved to /Users/kiangxin/Desktop/local_code/personal/multi-agent/scraper/properties.xlsx\n",
      "\n",
      "Successfully read back 20 rows from Excel\n",
      "\n",
      "Columns in Excel file:\n",
      "- property_desc\n",
      "- address\n",
      "- price\n",
      "- agent\n",
      "- link\n",
      "- agent_desc\n",
      "- propertyType\n",
      "- floorSize\n",
      "- numberOfBedrooms\n",
      "- numberOfBathrooms\n",
      "- lotType\n"
     ]
    }
   ],
   "source": [
    "import pandas as pd\n",
    "\n",
    "# Read the JSON file first (since we know it's clean)\n",
    "try:\n",
    "    # Read JSON data\n",
    "    df = pd.read_json('/Users/kiangxin/Desktop/local_code/personal/multi-agent/scraper/properties.json')\n",
    "\n",
    "    # Save to Excel\n",
    "    print(\"Converting to Excel...\")\n",
    "    excel_file = '/Users/kiangxin/Desktop/local_code/personal/multi-agent/scraper/properties.xlsx'\n",
    "    df.to_excel(excel_file, index=False, engine='openpyxl')\n",
    "    print(f\"Successfully saved to {excel_file}\")\n",
    "    \n",
    "    # Test reading back the Excel file\n",
    "    df_test = pd.read_excel(excel_file)\n",
    "    print(f\"\\nSuccessfully read back {len(df_test)} rows from Excel\")\n",
    "    print(\"\\nColumns in Excel file:\")\n",
    "    for col in df_test.columns:\n",
    "        print(f\"- {col}\")\n",
    "    \n",
    "except Exception as e:\n",
    "    print(f\"Error: {str(e)}\")"
   ]
  },
  {
   "cell_type": "code",
   "execution_count": null,
   "metadata": {},
   "outputs": [],
   "source": []
  }
 ],
 "metadata": {
  "kernelspec": {
   "display_name": "crawl4ai-05",
   "language": "python",
   "name": "python3"
  },
  "language_info": {
   "codemirror_mode": {
    "name": "ipython",
    "version": 3
   },
   "file_extension": ".py",
   "mimetype": "text/x-python",
   "name": "python",
   "nbconvert_exporter": "python",
   "pygments_lexer": "ipython3",
   "version": "3.9.21"
  }
 },
 "nbformat": 4,
 "nbformat_minor": 2
}
